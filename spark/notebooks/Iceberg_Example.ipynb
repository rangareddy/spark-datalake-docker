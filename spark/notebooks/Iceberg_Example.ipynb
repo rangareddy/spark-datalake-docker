{
 "cells": [
  {
   "cell_type": "code",
   "execution_count": null,
   "id": "b0322916-3eda-45f9-9704-6a96188ccacc",
   "metadata": {},
   "outputs": [],
   "source": [
    "from pyspark.sql import SparkSession\n",
    "\n",
    "# Create a Spark session\n",
    "spark = SparkSession.builder.appName(\"Iceberg App\")\\\n",
    "        .config('spark.sql.extensions', 'org.apache.iceberg.spark.extensions.IcebergSparkSessionExtensions')\\\n",
    "        .config('spark.sql.catalog.spark_catalog', 'org.apache.iceberg.spark.SparkCatalog')\\\n",
    "        .config(\"spark.sql.catalog.spark_catalog.type\", \"rest\") \\\n",
    "        .config(\"spark.sql.catalog.spark_catalog.uri\", \"http://rest:8181\") \\\n",
    "        .config(\"spark.sql.catalog.spark_catalog.io-impl\",\"org.apache.iceberg.aws.s3.S3FileIO\") \\\n",
    "        .config(\"spark.sql.catalog.spark_catalog.warehouse\",\"s3://warehouse/\") \\\n",
    "        .config(\"spark.sql.catalog.spark_catalog.s3.endpoint\",\"http://minio:9000\") \\\n",
    "        .config(\"spark.sql.defaultCatalog\",\"spark_catalog\") \\\n",
    "        .getOrCreate()\n",
    "\n",
    "spark.sparkContext.setLogLevel(\"ERROR\")\n",
    "spark"
   ]
  },
  {
   "cell_type": "code",
   "execution_count": null,
   "id": "cc668d1e-d6f8-466c-b5a4-3873846d4444",
   "metadata": {},
   "outputs": [],
   "source": [
    "input_df = spark.range(0, 30)\n",
    "input_df.write.mode(saveMode=\"overwrite\").format(\"iceberg\").saveAsTable(\"default.sample\")"
   ]
  },
  {
   "cell_type": "code",
   "execution_count": null,
   "id": "b1e3c668-ad5c-4853-b25d-d6df3a5b3cc6",
   "metadata": {},
   "outputs": [],
   "source": [
    "output_df = spark.sql(\"select * from default.sample\")\n",
    "output_df.show()"
   ]
  }
 ],
 "metadata": {
  "kernelspec": {
   "display_name": "Python 3 (ipykernel)",
   "language": "python",
   "name": "python3"
  },
  "language_info": {
   "codemirror_mode": {
    "name": "ipython",
    "version": 3
   },
   "file_extension": ".py",
   "mimetype": "text/x-python",
   "name": "python",
   "nbconvert_exporter": "python",
   "pygments_lexer": "ipython3",
   "version": "3.9.19"
  }
 },
 "nbformat": 4,
 "nbformat_minor": 5
}
