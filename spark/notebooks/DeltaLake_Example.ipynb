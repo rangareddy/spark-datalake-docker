{
 "cells": [
  {
   "cell_type": "code",
   "execution_count": null,
   "id": "7433a0a2-8928-4be7-9ed3-d9b39be1af99",
   "metadata": {},
   "outputs": [],
   "source": [
    "from pyspark.sql import SparkSession\n",
    "from delta import *\n",
    "from pyspark.sql.functions import *\n",
    "from pyspark.sql.types import *\n",
    "from pyspark.conf import SparkConf\n",
    "\n",
    "conf = SparkConf().setAppName(\"Delta App\")\n",
    "conf.set(\"spark.sql.extensions\", \"io.delta.sql.DeltaSparkSessionExtension\")\n",
    "conf.set(\"spark.sql.catalog.spark_catalog\", \"org.apache.spark.sql.delta.catalog.DeltaCatalog\")\n",
    "\n",
    "#  Create a Spark session\n",
    "spark = SparkSession.builder.config(conf=conf).getOrCreate()\n",
    "spark.sparkContext.setLogLevel(\"ERROR\")"
   ]
  },
  {
   "cell_type": "code",
   "execution_count": null,
   "id": "b80affe7-d97f-4b6d-b2a5-8b5ddbaaa7b8",
   "metadata": {},
   "outputs": [],
   "source": [
    "input_df = spark.range(0, 30)\n",
    "input_df.write.mode(saveMode=\"overwrite\").format(\"delta\").save(\"/tmp/delta-table2\")"
   ]
  },
  {
   "cell_type": "code",
   "execution_count": null,
   "id": "640d8952-dd0b-4ea3-8d77-095ce4500f75",
   "metadata": {},
   "outputs": [],
   "source": [
    "output_df = spark.read.format(\"delta\").load(\"/tmp/delta-table2\")\n",
    "output_df.show()"
   ]
  }
 ],
 "metadata": {
  "kernelspec": {
   "display_name": "Python 3 (ipykernel)",
   "language": "python",
   "name": "python3"
  },
  "language_info": {
   "codemirror_mode": {
    "name": "ipython",
    "version": 3
   },
   "file_extension": ".py",
   "mimetype": "text/x-python",
   "name": "python",
   "nbconvert_exporter": "python",
   "pygments_lexer": "ipython3",
   "version": "3.9.19"
  }
 },
 "nbformat": 4,
 "nbformat_minor": 5
}
